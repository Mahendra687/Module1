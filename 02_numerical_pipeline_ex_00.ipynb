{
 "cells": [
  {
   "cell_type": "markdown",
   "id": "afd7b9ae",
   "metadata": {},
   "source": [
    "# 📝 Exercise M1.02\n",
    "\n",
    "The goal of this exercise is to fit a similar model as in the previous\n",
    "notebook to get familiar with manipulating scikit-learn objects and in\n",
    "particular the `.fit/.predict/.score` API."
   ]
  },
  {
   "cell_type": "markdown",
   "id": "57782919",
   "metadata": {},
   "source": [
    "Let's load the adult census dataset with only numerical variables"
   ]
  },
  {
   "cell_type": "code",
   "execution_count": 1,
   "id": "22553520",
   "metadata": {},
   "outputs": [],
   "source": [
    "import pandas as pd\n",
    "adult_census = pd.read_csv(\"../datasets/adult-census-numeric.csv\")\n",
    "data = adult_census.drop(columns=\"class\")\n",
    "target = adult_census[\"class\"]"
   ]
  },
  {
   "cell_type": "markdown",
   "id": "aa67854c",
   "metadata": {},
   "source": [
    "In the previous notebook we used `model = KNeighborsClassifier()`. All\n",
    "scikit-learn models can be created without arguments, which means that you\n",
    "don't need to understand the details of the model to use it in scikit-learn.\n",
    "\n",
    "One of the `KNeighborsClassifier` parameters is `n_neighbors`. It controls\n",
    "the number of neighbors we are going to use to make a prediction for a new\n",
    "data point.\n",
    "\n",
    "What is the default value of the `n_neighbors` parameter? Hint: Look at the\n",
    "documentation on the [scikit-learn\n",
    "website](https://scikit-learn.org/stable/modules/generated/sklearn.neighbors.KNeighborsClassifier.html)\n",
    "or directly access the description inside your notebook by running the\n",
    "following cell. This will open a pager pointing to the documentation."
   ]
  },
  {
   "cell_type": "code",
   "execution_count": 2,
   "id": "0a6671e6",
   "metadata": {},
   "outputs": [],
   "source": [
    "from sklearn.neighbors import KNeighborsClassifier\n",
    "\n",
    "KNeighborsClassifier?"
   ]
  },
  {
   "cell_type": "markdown",
   "id": "af9791dc",
   "metadata": {},
   "source": [
    "Create a `KNeighborsClassifier` model with `n_neighbors=50`"
   ]
  },
  {
   "cell_type": "code",
   "execution_count": 3,
   "id": "e8f9d0ab",
   "metadata": {},
   "outputs": [],
   "source": [
    "# Write your code here.\n",
    "classifier_model = KNeighborsClassifier(n_neighbors=50)"
   ]
  },
  {
   "cell_type": "markdown",
   "id": "31c9816c",
   "metadata": {},
   "source": [
    "Fit this model on the data and target loaded above"
   ]
  },
  {
   "cell_type": "code",
   "execution_count": 4,
   "id": "1326dc54",
   "metadata": {},
   "outputs": [
    {
     "data": {
      "text/plain": [
       "KNeighborsClassifier(n_neighbors=50)"
      ]
     },
     "execution_count": 4,
     "metadata": {},
     "output_type": "execute_result"
    }
   ],
   "source": [
    "# Write your code here.\n",
    "classifier_model.fit(data, target)"
   ]
  },
  {
   "cell_type": "markdown",
   "id": "7b882ebd",
   "metadata": {},
   "source": [
    "Use your model to make predictions on the first 10 data points inside the\n",
    "data. Do they match the actual target values?"
   ]
  },
  {
   "cell_type": "code",
   "execution_count": 5,
   "id": "1cf52c88",
   "metadata": {},
   "outputs": [],
   "source": [
    "# Write your code here.\n",
    "#print(classifier_model.predict([:10])\n",
    "target_predicted = classifier_model.predict(data)"
   ]
  },
  {
   "cell_type": "code",
   "execution_count": 6,
   "id": "3c41570d",
   "metadata": {},
   "outputs": [
    {
     "data": {
      "text/plain": [
       "array([' <=50K', ' <=50K', ' <=50K', ' <=50K', ' <=50K', ' <=50K',\n",
       "       ' <=50K', ' >50K', ' <=50K', ' <=50K'], dtype=object)"
      ]
     },
     "execution_count": 6,
     "metadata": {},
     "output_type": "execute_result"
    }
   ],
   "source": [
    "target_predicted[:10]"
   ]
  },
  {
   "cell_type": "code",
   "execution_count": 7,
   "id": "12970fcf",
   "metadata": {},
   "outputs": [
    {
     "data": {
      "text/plain": [
       "0     <=50K\n",
       "1     <=50K\n",
       "2     <=50K\n",
       "3     <=50K\n",
       "4     <=50K\n",
       "5     <=50K\n",
       "6     <=50K\n",
       "7      >50K\n",
       "8     <=50K\n",
       "9      >50K\n",
       "Name: class, dtype: object"
      ]
     },
     "execution_count": 7,
     "metadata": {},
     "output_type": "execute_result"
    }
   ],
   "source": [
    "target[:10]"
   ]
  },
  {
   "cell_type": "code",
   "execution_count": 8,
   "id": "182c43dd",
   "metadata": {},
   "outputs": [
    {
     "data": {
      "text/plain": [
       "0     True\n",
       "1     True\n",
       "2     True\n",
       "3     True\n",
       "4     True\n",
       "5     True\n",
       "6     True\n",
       "7     True\n",
       "8     True\n",
       "9    False\n",
       "Name: class, dtype: bool"
      ]
     },
     "execution_count": 8,
     "metadata": {},
     "output_type": "execute_result"
    }
   ],
   "source": [
    "target[:10] == target_predicted[:10]"
   ]
  },
  {
   "cell_type": "code",
   "execution_count": 10,
   "id": "30cffb49",
   "metadata": {},
   "outputs": [
    {
     "name": "stdout",
     "output_type": "stream",
     "text": [
      "Number of correct prediction: 9 / 10\n"
     ]
    }
   ],
   "source": [
    "print(f\"Number of correct prediction: \"\n",
    "      f\"{(target[:10] == target_predicted[:10]).sum()} / 10\")"
   ]
  },
  {
   "cell_type": "code",
   "execution_count": 11,
   "id": "6c1ebc78",
   "metadata": {},
   "outputs": [
    {
     "data": {
      "text/plain": [
       "0.8290379545978042"
      ]
     },
     "execution_count": 11,
     "metadata": {},
     "output_type": "execute_result"
    }
   ],
   "source": [
    "(target == target_predicted).mean()"
   ]
  },
  {
   "cell_type": "markdown",
   "id": "1cfe94a9",
   "metadata": {},
   "source": [
    "Compute the accuracy on the training data."
   ]
  },
  {
   "cell_type": "code",
   "execution_count": 12,
   "id": "96f24dd5",
   "metadata": {},
   "outputs": [
    {
     "name": "stdout",
     "output_type": "stream",
     "text": [
      "The test accuracy is 0.829\n"
     ]
    }
   ],
   "source": [
    "# Write your code here.\n",
    "accuracy = classifier_model.score(data, target)\n",
    "#model_name = model.__class__.__name__\n",
    "\n",
    "print(f\"The test accuracy is \"\n",
    "      f\"{accuracy:.3f}\")"
   ]
  },
  {
   "cell_type": "markdown",
   "id": "408d5d43",
   "metadata": {},
   "source": [
    "Now load the test data from `\"../datasets/adult-census-numeric-test.csv\"` and\n",
    "compute the accuracy on the test data."
   ]
  },
  {
   "cell_type": "code",
   "execution_count": 15,
   "id": "612a1cb6",
   "metadata": {},
   "outputs": [],
   "source": [
    "# Write your code here.\n",
    "adult_census_test = pd.read_csv(\"../datasets/adult-census-numeric-test.csv\")"
   ]
  },
  {
   "cell_type": "code",
   "execution_count": 20,
   "id": "0cecb4d2",
   "metadata": {},
   "outputs": [],
   "source": [
    "target_name = \"class\"\n",
    "target_test = adult_census_test[target_name]\n",
    "data_test = adult_census_test.drop(columns = [target_name, ])"
   ]
  },
  {
   "cell_type": "code",
   "execution_count": 21,
   "id": "98818b39",
   "metadata": {},
   "outputs": [
    {
     "name": "stdout",
     "output_type": "stream",
     "text": [
      "The testing dataset contains 9769 samples and 4 features\n"
     ]
    }
   ],
   "source": [
    "print(f\"The testing dataset contains {data_test.shape[0]} samples and \"\n",
    "      f\"{data_test.shape[1]} features\")"
   ]
  },
  {
   "cell_type": "code",
   "execution_count": 25,
   "id": "1ea2214d",
   "metadata": {},
   "outputs": [
    {
     "name": "stdout",
     "output_type": "stream",
     "text": [
      "The test accuracy is 0.818\n"
     ]
    }
   ],
   "source": [
    "accuracy = classifier_model.score(data_test, target_test)\n",
    "#model_name = model.__class__.__name__\n",
    "\n",
    "print(f\"The test accuracy is \"\n",
    "      f\"{accuracy:.3f}\")"
   ]
  }
 ],
 "metadata": {
  "jupytext": {
   "encoding": "# -*- coding: utf-8 -*-",
   "main_language": "python"
  },
  "kernelspec": {
   "display_name": "Python 3 (ipykernel)",
   "language": "python",
   "name": "python3"
  },
  "language_info": {
   "codemirror_mode": {
    "name": "ipython",
    "version": 3
   },
   "file_extension": ".py",
   "mimetype": "text/x-python",
   "name": "python",
   "nbconvert_exporter": "python",
   "pygments_lexer": "ipython3",
   "version": "3.9.7"
  },
  "nbreset": "https://github.com/INRIA/scikit-learn-mooc/raw/main/notebooks/02_numerical_pipeline_ex_00.ipynb"
 },
 "nbformat": 4,
 "nbformat_minor": 5
}
